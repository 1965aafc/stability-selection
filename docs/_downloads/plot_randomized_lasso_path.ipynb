{
  "nbformat_minor": 0, 
  "nbformat": 4, 
  "cells": [
    {
      "execution_count": null, 
      "cell_type": "code", 
      "source": [
        "%matplotlib inline"
      ], 
      "outputs": [], 
      "metadata": {
        "collapsed": false
      }
    }, 
    {
      "source": [
        "\n# Randomized LASSO example\n\n\nAn example plot of the stability scores for each variable after fitting :class:`stability_selection.StabilitySelection`\nwith :class:`stability_selection.RandomizedLasso`\n\n"
      ], 
      "cell_type": "markdown", 
      "metadata": {}
    }, 
    {
      "execution_count": null, 
      "cell_type": "code", 
      "source": [
        "import numpy as np\n\nfrom sklearn.utils import check_random_state\nfrom stability_selection import StabilitySelection, RandomizedLasso, plot_stability_path\n\n\ndef generate_experiment_data(n=200, p=200, rho=0.6, random_state=3245):\n    rng = check_random_state(random_state)\n\n    sigma = np.eye(p)\n    sigma[0, 2] = rho\n    sigma[2, 0] = rho\n    sigma[1, 2] = rho\n    sigma[2, 1] = rho\n\n    X = rng.multivariate_normal(mean=np.zeros(p), cov=sigma, size=(n,))\n    beta = np.zeros(p)\n    beta[:2] = 1.0\n    epsilon = rng.normal(0.0, 0.25, size=(n,))\n\n    y = np.matmul(X, beta) + epsilon\n\n    return X, y\n\n\nif __name__ == '__main__':\n    n, p = 200, 200\n    rho = 0.6\n\n    X, y = generate_experiment_data()\n    lambda_grid = np.linspace(0.001, 0.5, num=100)\n\n    for weakness in [0.2, 0.5, 1.0]:\n        estimator = RandomizedLasso(weakness=weakness)\n        selector = StabilitySelection(base_estimator=estimator, lambda_name='alpha',\n                                      lambda_grid=lambda_grid, threshold=0.9, verbose=1)\n        selector.fit(X, y)\n\n        fig, ax = plot_stability_path(selector)\n        fig.show()"
      ], 
      "outputs": [], 
      "metadata": {
        "collapsed": false
      }
    }
  ], 
  "metadata": {
    "kernelspec": {
      "display_name": "Python 2", 
      "name": "python2", 
      "language": "python"
    }, 
    "language_info": {
      "mimetype": "text/x-python", 
      "nbconvert_exporter": "python", 
      "name": "python", 
      "file_extension": ".py", 
      "version": "2.7.11", 
      "pygments_lexer": "ipython2", 
      "codemirror_mode": {
        "version": 2, 
        "name": "ipython"
      }
    }
  }
}